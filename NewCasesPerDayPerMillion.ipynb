{
 "cells": [
  {
   "cell_type": "markdown",
   "metadata": {
    "hide_input": false
   },
   "source": [
    "# New Cases of COVID-19 per Day per <span style=\"color:blue\">100,000 (100k)</span> Population\n",
    "\n",
    "The purpose of this notebook is to show the current relative risk (by US county) of becoming infected today with COVID-19.  <span style=\"color:red\"><b>Do not conclude that no new cases (darkest green on the map) indicates absolute safety.</b>  Even though a county may be green (no new cases) the virus may still be spreading.  The map is based on confirmed cases; the virus can spread with no symptoms that would prompt testing and confirmation.  There is also a delay between exposure to the virus and the appearance of symptoms.</span>\n",
    "\n",
    "**<p style=\"color:blue\">Once the interactive version of the notebook appears, wait for a map to appear at the bottom of the notebook.  JavaScript needs to be enabled in your browser for the map to work.</p>**\n",
    "\n",
    "#### *Current* New Cases per Day\n",
    "The total cases of COVID-19 are a poor measure of current risk if the coronavirus is not spreading. <span style=\"color:red\">This notebook uses an average of **new** cases over the last seven days, with days weighted equally.</span>\n",
    "\n",
    "#### *Per 100k Population\n",
    "Ten new cases per day is far more significant in a population of a thousand than in a population of 100k. The per-capita numbers were calculated using 100k to be consistent with the JHU and IHME sites. Dividing new cases by 100k permits each county, whether rural or urban, to be compared on an equal basis. The name of this notebook was not changed so that previous hyperlinks will continue to work.\n",
    "\n",
    "#### \"Red\" Counties\n",
    "<p style=\"color:red\">The color scale of the map ranges from green (for no new cases) to red (for 25 or more cases per day per 100k). Counties with more than 25 cases per day per 100k are also show as red. As the pandemic eases, there should be less red in the map.</p>\n",
    "\n",
    "#### Troubleshooting\n",
    "* If something goes wrong, first try selecting \"Cell\" from the menu, and then \"Run All\" from the submenu.\n",
    "* If all else fails, just shut down this Notebook (\"File\" and \"Close and Halt\" from the menu), and close the tab, and then click on the original address to start a new remote server.\n",
    "* This Notebook relies on a JavaScript library called Leaflet; if JavaScript is disabled in your browser, a map cannot be produced."
   ]
  },
  {
   "cell_type": "code",
   "execution_count": null,
   "metadata": {
    "hide_input": true,
    "init_cell": true
   },
   "outputs": [],
   "source": [
    "%%javascript\n",
    "IPython.OutputArea.auto_scroll_threshold = 99999"
   ]
  },
  {
   "cell_type": "code",
   "execution_count": null,
   "metadata": {
    "hide_input": true,
    "init_cell": true,
    "scrolled": true
   },
   "outputs": [],
   "source": [
    "import os\n",
    "import json\n",
    "from math import sqrt, pow\n",
    "import numpy as np\n",
    "import geopandas as gpd\n",
    "import pandas as pd\n",
    "import folium\n",
    "import branca.colormap as cm\n",
    "import us"
   ]
  },
  {
   "cell_type": "code",
   "execution_count": null,
   "metadata": {
    "hide_input": true,
    "init_cell": true,
    "scrolled": true
   },
   "outputs": [],
   "source": [
    "# Read in COVID-19 and population data\n",
    "# days for moving average\n",
    "NDAYS = 7\n",
    "\n",
    "# read in the data from JHU github\n",
    "url = 'https://raw.githubusercontent.com/CSSEGISandData/COVID-19/master/csse_covid_19_data/csse_covid_19_time_series/time_series_covid19_confirmed_US.csv'\n",
    "df = pd.read_csv(url,index_col=0)\n",
    "\n",
    "# filter out all but county-level data\n",
    "df = df[((df['FIPS'] > 1000) & (df['FIPS'] < 60000))]\n",
    "\n",
    "# select useful columns and rename them, replacing state names with abbreviations\n",
    "df_meta = df.iloc[:, [3, 4, 5, 7, 8]]  # all rows, selected columns\n",
    "df_date = df.iloc[:,11:]               # all rows, columns 11 to the end\n",
    "df = pd.merge(df_meta, df_date, on='UID')\n",
    "df.rename(columns = {'Admin2':'County', 'Province_State':'State', 'Long_':'Lon'}, inplace = True)\n",
    "df.State = [us.states.lookup(name).abbr for name in df.State]  # abbreviate state name\n",
    "\n",
    "# load the population data (2018 data from US Census Bureau)\n",
    "csv_file_name = 'data/combined_fips_population.csv'\n",
    "population_dict = pd.read_csv(csv_file_name, header=None, index_col=0, squeeze=True).to_dict()"
   ]
  },
  {
   "cell_type": "code",
   "execution_count": null,
   "metadata": {
    "hide_input": true,
    "init_cell": true,
    "scrolled": true
   },
   "outputs": [],
   "source": [
    "# Define functions for calculated fields\n",
    "# convert floating point FIPS number to a string\n",
    "def convert_fips_to_string(row):\n",
    "    return f\"{np.int64(row['FIPS']):05d}\"\n",
    "\n",
    "# concatenated state abbreviation and county name for display in tooltip\n",
    "def prepare_state_county_label(row):\n",
    "    return f\"{row['State']}:{row['County']}\"\n",
    "    \n",
    "# get the county population\n",
    "def get_population(row):\n",
    "    fips = row['FIPS']\n",
    "    if fips in population_dict:\n",
    "        return population_dict[row['FIPS']]\n",
    "    else:\n",
    "        population_dict[fips] = 10.0  # low populations, high cases per 100,000\n",
    "        return population_dict[fips]\n",
    "    \n",
    "# get the total cases in a county\n",
    "def get_total(row):\n",
    "    return row[-1]\n",
    "\n",
    "# get the total cases per 100k in a county\n",
    "def get_total_per_100k(row):\n",
    "    return row[-1]/(population_dict[row['FIPS']]/100000.0)\n",
    "\n",
    "# get the latest number of new cases; usually yesterday\n",
    "def get_new_cases_yesterday(row):\n",
    "    return row[-1] - row[-2]\n",
    "\n",
    "# define weighted average for a numpy array at least NDAYS + 1 long\n",
    "def weighted_average(data, days):\n",
    "    assert isinstance(data, np.ndarray)\n",
    "    assert len(data.shape) == 1\n",
    "    assert data.shape[0] >= days\n",
    "    \n",
    "    # set up weights\n",
    "    #weights = np.arange(days + 1, dtype=np.float)\n",
    "    weights = np.ones(days, dtype=np.float)\n",
    "    weights = weights / np.sum(weights)\n",
    "  \n",
    "    # calculated the weighted average; return\n",
    "    weighted_avg = np.sum(weights[-days:]*data)\n",
    "    return weighted_avg\n",
    "\n",
    "# define a weighted average number of new cases per day\n",
    "def new_per_day(row):\n",
    "   \n",
    "    # calculate daily new cases\n",
    "    cases_arr = row[-NDAYS-1:].to_numpy(dtype='float64')\n",
    "    new_cases_per_day_arr = cases_arr[-NDAYS:]-cases_arr[-NDAYS-1:-1]\n",
    "      \n",
    "    # calculated the weighted average; return\n",
    "    avg_new_cases_per_day = weighted_average(new_cases_per_day_arr, NDAYS)\n",
    "    return avg_new_cases_per_day\n",
    "\n",
    "# define a weighted average number of new cases per day per 100k\n",
    "def new_per_day_per_100k(row):\n",
    "    return row['NewPD']/(row['Population']/100000.0)"
   ]
  },
  {
   "cell_type": "code",
   "execution_count": null,
   "metadata": {
    "hide_input": true,
    "init_cell": true
   },
   "outputs": [],
   "source": [
    "# Add and populate calculated fields\n",
    "# insert new columns\n",
    "df.insert(5, 'FIPSStr', '')\n",
    "df.insert(6, 'STCounty', '')\n",
    "df.insert(7, 'Population', 0)\n",
    "df.insert(8, 'Total', 0)\n",
    "df.insert(9, 'TotalP100k', 0)\n",
    "df.insert(10, 'NewYesterday', 0)\n",
    "df.insert(11, 'NewPD', 0)\n",
    "df.insert(12, 'NewPDP100k', 0)\n",
    "  \n",
    "# calculate new columns\n",
    "df['FIPSStr'] = df.apply(convert_fips_to_string, axis=1)\n",
    "df['STCounty'] = df.apply(prepare_state_county_label, axis=1)\n",
    "df['Population'] =df.apply(get_population, axis=1)\n",
    "df['Total'] = df.apply(get_total, axis=1)\n",
    "df['TotalP100k'] = df.apply(get_total_per_100k, axis=1)\n",
    "df['NewYesterday'] = df.apply(get_new_cases_yesterday, axis=1)\n",
    "df['NewPD'] = df.apply(new_per_day, axis=1)\n",
    "df['NewPDP100k'] = df.apply(new_per_day_per_100k, axis=1)\n",
    "\n",
    "LAST_DATE = df.columns[-1]"
   ]
  },
  {
   "cell_type": "code",
   "execution_count": null,
   "metadata": {
    "hide_input": true,
    "init_cell": true
   },
   "outputs": [],
   "source": [
    "# Load GeoJSON data and merge with COVID-19 and population data\n",
    "county_path = os.path.join('data', 'county.json')\n",
    "county_geo = json.loads(open(county_path).read())\n",
    "counties = gpd.GeoDataFrame.from_features(county_geo, crs='EPSG:4326')\n",
    "counties = counties.merge(df, how = 'inner', left_on = 'GEOID', right_on = 'FIPSStr')"
   ]
  },
  {
   "cell_type": "code",
   "execution_count": null,
   "metadata": {
    "hide_input": true,
    "init_cell": true,
    "scrolled": false
   },
   "outputs": [],
   "source": [
    "# create a map\n",
    "m = folium.Map(location=[39.758056, -96.00000], tiles='CartoDB positron', zoom_start=4, prefer_canvas=True)\n",
    "\n",
    "# red value is approximate 90th%tile of counties on 5/19/20\n",
    "color_map = cm.LinearColormap(vmin=0.0, vmax=25.0, colors=['#CCE2CC', '#FBFBD5', '#FAC9CC'], \n",
    "                                                    caption='New Cases per Day per 100K').add_to(m)\n",
    "\n",
    "new_series = counties.set_index('FIPSStr')['NewPDP100k']\n",
    "\n",
    "tooltip = folium.GeoJsonTooltip(\n",
    "    fields=[\"STCounty\", \"Population\", \"Total\", \"TotalP100k\", \"NewYesterday\", \"NewPD\", \"NewPDP100k\"],\n",
    "    aliases=[\"State:County\", \"Population\", \"Total Cases\", \"Total Cases/100k\", \n",
    "             f\"New Cases {LAST_DATE}\", f\"New/Day ({NDAYS}d avg)\", f\"New/Day/100k ({NDAYS}d avg)\"],\n",
    "    localize=True, sticky=True, labels=True,\n",
    "    style=\"\"\"\n",
    "        background-color: #F0EFEF;\n",
    "        border: 1px solid black;\n",
    "        border-radius: 3px;\n",
    "        box-shadow: 3px;\n",
    "        line-height: 80%;\n",
    "    \"\"\"\n",
    ")\n",
    "\n",
    "def style_function(feature):\n",
    "    geoid = feature['properties']['FIPSStr']\n",
    "    try:\n",
    "        newPTPD = new_series[geoid]\n",
    "        return  {\"fillColor\": color_map(newPTPD), \"fillOpacity\":0.4, \"color\":'#black',\n",
    "                 \"opacity\":0.2, \"weight\":1}\n",
    "    except:\n",
    "        return {}\n",
    "\n",
    "g = folium.GeoJson(\n",
    "    counties, style_function=style_function, tooltip=tooltip).add_to(m)\n",
    "m"
   ]
  },
  {
   "cell_type": "markdown",
   "metadata": {
    "hide_input": false
   },
   "source": [
    "#### Data Sources\n",
    "This Notebook downloads the latest confirmed case data from Johns Hopkins University each time it is run.  The data is updated daily by JHU (usually late at night), so the numbers of cases in this Notebook may be up to one day out of date. \n",
    "\n",
    "See this map for a continuously updated version of the COVID-19 data:\n",
    "https://coronavirus.jhu.edu/map.html\n",
    "\n",
    "Population data is from the US Census Bureau for 2018.\n",
    "\n",
    "#### How This Notebook Works\n",
    "When you open the original address for this notebook in a browser (by clicking on a link or pasting the address into your browser), a free service called binder.org starts a remote Jupyter Notebook server, and once the server has started, connects your browser to it using a temporary address.  The server start-up process can take a minute or so.  While waiting, a snapshot of this notebook is displayed.  \n",
    "\n",
    "Once the Jupyter Notebook loads in your browser, the \"cells\" of the Notebook are run; the last cell displays a map. This process could take 10-30 seconds or so.  By default, all the cells are hidden except this one and the one containing the map. To show the hidden cells, click on the map or the whitespace above the map, and then click the **^** button on the toolbar of the Notebook.  You can tell if all the cells are displayed if they are numbered sequentially (numbers are in the upper left margin of the cell).\n",
    "\n",
    "<p style=\"color:blue\">The remote server will shut down with 10 minutes of inactivity.</p>\n",
    "\n",
    "The computer language used to create this Notebook is Python. All of the libraries used are free.  You can experiment by modifying the code in the cells and rerunning all the cells.\n",
    "\n",
    "To send suggestions for this visualization, please click here:\n",
    "<A HREF=\"mailto:covidhotspot@elegambda.com\">covidhotspot@elegambda.com</A>. "
   ]
  }
 ],
 "metadata": {
  "celltoolbar": "Initialization Cell",
  "kernelspec": {
   "display_name": "Python 3",
   "language": "python",
   "name": "python3"
  },
  "language_info": {
   "codemirror_mode": {
    "name": "ipython",
    "version": 3
   },
   "file_extension": ".py",
   "mimetype": "text/x-python",
   "name": "python",
   "nbconvert_exporter": "python",
   "pygments_lexer": "ipython3",
   "version": "3.7.3"
  }
 },
 "nbformat": 4,
 "nbformat_minor": 2
}
